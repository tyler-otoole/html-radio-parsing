{
 "cells": [
  {
   "cell_type": "code",
   "execution_count": 1,
   "id": "e3f71312",
   "metadata": {},
   "outputs": [
    {
     "name": "stdout",
     "output_type": "stream",
     "text": [
      "Created 100 new forms from form_001 to form_100\n"
     ]
    }
   ],
   "source": [
    "import os\n",
    "import random\n",
    "import glob\n",
    "\n",
    "output_dir = \"html_forms\"\n",
    "os.makedirs(output_dir, exist_ok=True)\n",
    "\n",
    "# --------------------------------------------------\n",
    "# Get the next starting index based on existing files\n",
    "# --------------------------------------------------\n",
    "existing_files = glob.glob(os.path.join(output_dir, \"form_*.html\"))\n",
    "existing_ids = [\n",
    "    int(os.path.basename(f).split(\"_\")[1].split(\".\")[0])\n",
    "    for f in existing_files\n",
    "]\n",
    "\n",
    "start_id = max(existing_ids, default=0) + 1  # e.g., 101 if last was 100\n",
    "\n",
    "# --------------------------------------------------\n",
    "# Function to generate HTML content with selections\n",
    "# --------------------------------------------------\n",
    "def generate_html(form_num, sms_choice, email_choice):\n",
    "    return f\"\"\"\n",
    "<!DOCTYPE html>\n",
    "<html>\n",
    "<head>\n",
    "    <title>Consent Form {form_num}</title>\n",
    "</head>\n",
    "<body>\n",
    "    <h2>Consent Form #{form_num}</h2>\n",
    "\n",
    "    <form>\n",
    "        <p>1. Consent to SMS?</p>\n",
    "        <label><input type=\"radio\" name=\"consent_sms\" value=\"yes\" {'checked' if sms_choice == 'yes' else ''}> Yes</label><br>\n",
    "        <label><input type=\"radio\" name=\"consent_sms\" value=\"no\" {'checked' if sms_choice == 'no' else ''}> No</label><br><br>\n",
    "\n",
    "        <p>2. Consent to Email?</p>\n",
    "        <label><input type=\"radio\" name=\"consent_email\" value=\"yes\" {'checked' if email_choice == 'yes' else ''}> Yes</label><br>\n",
    "        <label><input type=\"radio\" name=\"consent_email\" value=\"no\" {'checked' if email_choice == 'no' else ''}> No</label><br><br>\n",
    "\n",
    "        <input type=\"submit\" value=\"Submit\">\n",
    "    </form>\n",
    "</body>\n",
    "</html>\n",
    "\"\"\"\n",
    "\n",
    "# --------------------------------------------------\n",
    "# Generate the next batch of 100 files\n",
    "# --------------------------------------------------\n",
    "for i in range(start_id, start_id + 100):\n",
    "    sms_consent = random.choice([\"yes\", \"no\"])\n",
    "    email_consent = random.choice([\"yes\", \"no\"])\n",
    "    html_content = generate_html(i, sms_consent, email_consent)\n",
    "\n",
    "    filename = f\"form_{i:03}.html\"\n",
    "    filepath = os.path.join(output_dir, filename)\n",
    "    with open(filepath, \"w\") as f:\n",
    "        f.write(html_content)\n",
    "\n",
    "print(f\"Created 100 new forms from form_{start_id:03} to form_{start_id + 99:03}\")"
   ]
  }
 ],
 "metadata": {
  "kernelspec": {
   "display_name": "venv",
   "language": "python",
   "name": "python3"
  },
  "language_info": {
   "codemirror_mode": {
    "name": "ipython",
    "version": 3
   },
   "file_extension": ".py",
   "mimetype": "text/x-python",
   "name": "python",
   "nbconvert_exporter": "python",
   "pygments_lexer": "ipython3",
   "version": "3.13.0"
  }
 },
 "nbformat": 4,
 "nbformat_minor": 5
}
